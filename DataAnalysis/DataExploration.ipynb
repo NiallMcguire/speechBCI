{
 "cells": [
  {
   "cell_type": "code",
   "execution_count": 1,
   "metadata": {
    "collapsed": true,
    "ExecuteTime": {
     "start_time": "2024-04-30T15:13:18.216897Z",
     "end_time": "2024-04-30T15:13:18.898728Z"
    }
   },
   "outputs": [],
   "source": [
    "import scipy.io\n"
   ]
  },
  {
   "cell_type": "code",
   "execution_count": 2,
   "outputs": [],
   "source": [
    "# Load the .mat file\n",
    "\n",
    "file_path = r\"I:\\Science\\CIS-YASHMOSH\\neurasearch\\Brain-to-Text_Benchmark_24\\competition_dataset\\competitionData\\train\\t12.2022.04.28.mat\"\n",
    "mat_contents = scipy.io.loadmat(file_path)"
   ],
   "metadata": {
    "collapsed": false,
    "ExecuteTime": {
     "start_time": "2024-04-30T15:13:46.298624Z",
     "end_time": "2024-04-30T15:14:11.255843Z"
    }
   }
  },
  {
   "cell_type": "code",
   "execution_count": 3,
   "outputs": [
    {
     "data": {
      "text/plain": "dict_keys(['__header__', '__version__', '__globals__', 'sentenceText', 'tx1', 'tx2', 'tx3', 'tx4', 'spikePow', 'blockIdx'])"
     },
     "execution_count": 3,
     "metadata": {},
     "output_type": "execute_result"
    }
   ],
   "source": [
    "# Get the keys of the dictionary\n",
    "mat_contents.keys()"
   ],
   "metadata": {
    "collapsed": false,
    "ExecuteTime": {
     "start_time": "2024-04-30T15:14:21.983251Z",
     "end_time": "2024-04-30T15:14:22.029846Z"
    }
   }
  },
  {
   "cell_type": "code",
   "execution_count": 6,
   "outputs": [],
   "source": [
    "# Get the data\n",
    "header = mat_contents['__header__']\n",
    "version = mat_contents['__version__']\n",
    "globals = mat_contents['__globals__']\n",
    "sentenceText = mat_contents['sentenceText']\n",
    "tx1 = mat_contents['tx1']\n",
    "tx2 = mat_contents['tx2']\n",
    "tx3 = mat_contents['tx3']\n",
    "tx4 = mat_contents['tx4']\n",
    "spikePow = mat_contents['spikePow']\n",
    "blockIdx = mat_contents['blockIdx']"
   ],
   "metadata": {
    "collapsed": false,
    "ExecuteTime": {
     "start_time": "2024-04-30T15:16:39.085526Z",
     "end_time": "2024-04-30T15:16:39.101153Z"
    }
   }
  },
  {
   "cell_type": "code",
   "execution_count": 8,
   "outputs": [
    {
     "name": "stdout",
     "output_type": "stream",
     "text": [
      "Header: b'MATLAB 5.0 MAT-file Platform: posix, Created on: Fri Aug 25 11:31:42 2023'\n",
      "Version: 1.0\n",
      "Globals: []\n"
     ]
    }
   ],
   "source": [
    "print(\"Header:\", header)\n",
    "print(\"Version:\", version)\n",
    "print(\"Globals:\", globals)"
   ],
   "metadata": {
    "collapsed": false,
    "ExecuteTime": {
     "start_time": "2024-04-30T15:17:12.875238Z",
     "end_time": "2024-04-30T15:17:12.895807Z"
    }
   }
  },
  {
   "cell_type": "code",
   "execution_count": 15,
   "outputs": [
    {
     "name": "stdout",
     "output_type": "stream",
     "text": [
      "Sentence Length: 280\n",
      "Sentence Text: ['Nuclear rockets can destroy airfields with ease.                                      '\n",
      " 'The best way to learn is to solve extra problems.                                     '\n",
      " 'The spray will be used in first division matches next season.                         '\n",
      " \"Our experiment's positive outcome was unexpected.                                     \"\n",
      " \"Alimony harms a divorced man's wealth.                                                \"\n",
      " 'She uses both names interchangeably.                                                  '\n",
      " 'The misquote was retracted with an apology.                                           '\n",
      " 'Critics fear the erosion of consumer protections and environmental standards.         '\n",
      " 'Her lips, moist and parted, spoke his name.                                           '\n",
      " 'How do they turn out later?                                                           '\n",
      " 'The eastern coast is a place for pure pleasure and excitement.                        '\n",
      " 'Please make your decision wisely to visit the Beach.                                  '\n",
      " 'She encouraged her children to make their own Halloween costumes.                     '\n",
      " 'Cleaned cloth must be protected against the redeposition of dispersed soil.           '\n",
      " 'Both figures would go higher in later years.                                          '\n",
      " 'She always jokes about too much garlic in his food.                                   '\n",
      " 'If people were more generous, there would be no need for welfare.                     '\n",
      " 'The dimensions of these waves dwarf all our usual standards of measurement.           '\n",
      " 'The knifelike pain in his groin nearly brought him down again.                        '\n",
      " 'Selecting bunks by economic comparison is usually an individual problem.              '\n",
      " 'Have a test-run on the family first, to be sure timing and seasoning are right.       '\n",
      " 'A good attitude is unbeatable.                                                        '\n",
      " 'Make lid for sugar bowl the same as jar lids, omitting design disk.                   '\n",
      " \"It's healthier to cook without sugar.                                                 \"\n",
      " 'Ironically enough, in this instance such personal virtues were a luxury.              '\n",
      " 'Every cab needs repainting often.                                                     '\n",
      " 'Coconut cream pie makes a nice dessert.                                               '\n",
      " 'George seldom watches daytime movies.                                                 '\n",
      " 'Wooded stream valleys in the folds of earth would be saved.                           '\n",
      " 'The nearest synagogue may not be within walking distance.                             '\n",
      " 'Some measures on student debt relief have already been taken.                         '\n",
      " 'Morphophonemic rules may be thought of as joining certain points in the system.       '\n",
      " 'His talk turns to what he calls the mess, or sometimes this buzzing confusion.        '\n",
      " 'The structures housing the apartments are of masonry and frame construction.          '\n",
      " \"I ate every oyster on Nora's plate.                                                   \"\n",
      " 'Usually, they occur through Facebook.                                                 '\n",
      " 'Hastily the boy switched on a ceiling light.                                          '\n",
      " 'I do struggle with visuals but will do a higher dose sometime soon.                   '\n",
      " 'Call an ambulance for medical assistance.                                             '\n",
      " 'Usually it snaps back into place by morning.                                          '\n",
      " \"He doesn't want her to look frowningly at him, or speak to him angrily.               \"\n",
      " 'Almonds and pistachio nuts are not so high in oil but are rich in protein.            '\n",
      " 'The cigarettes in the clay ashtray overflowed onto the oak table.                     '\n",
      " 'The measures require parliamentary approval before they can come into force.          '\n",
      " 'We produce peanut oil, but to a much greater extent we eat the entire seed.           '\n",
      " 'His election, on the other hand, would unquestionably strengthen the regulars.        '\n",
      " 'Do atypical farmers grow oats?                                                        '\n",
      " 'Further, it has its work cut out stopping anarchy where it is now garrisoned.         '\n",
      " 'My desires are simple: give me one informative paragraph on the subject.              '\n",
      " \"Our boy didn't chicken out, no sir.                                                   \"\n",
      " 'The moisture in my eyes is from eyedrops, not from tears.                             '\n",
      " 'The staff deserves a lot of credit working down here under real obstacles.            '\n",
      " 'One needs to protect the skin from exposure to the sun.                               '\n",
      " 'Suburban housewives often suffer from the gab habit.                                  '\n",
      " 'Grandmother outgrew her upbringing in petticoats.                                     '\n",
      " \"John's brother repainted the garage door.                                             \"\n",
      " 'An octillion atoms -- now let us see where this power comes from.                     '\n",
      " 'They own a big house in the remote countryside.                                       '\n",
      " 'He banked his treasure in the hearts of his friends.                                  '\n",
      " 'Nothing has been done yet to take advantage of the enabling legislation.              '\n",
      " 'Our enemy is also threatening to devour us.                                           '\n",
      " 'No manufacturer has taken the initiative in pointing out the costs involved.          '\n",
      " 'And according to the new revisions, they might very well change.                      '\n",
      " 'Fill that canteen with fresh spring water.                                            '\n",
      " \"He doesn't want her to look frowningly at him, or speak to him angrily.               \"\n",
      " 'Angora cats are furrier than Siamese.                                                 '\n",
      " \"Employee layoffs coincided with the company's reorganization.                         \"\n",
      " 'Microorganisms are often responsible for the rapid spoilage of foods.                 '\n",
      " 'Is a relaxed home atmosphere enough to help her outgrow these traits?                 '\n",
      " 'He may have a point in urging that decadent themes be given fewer prizes.             '\n",
      " 'The emblem depicts the Acropolis all aglow.                                           '\n",
      " 'The local drugstore was charged with illegally dispensing tranquilizers.              '\n",
      " 'That noise problem grows more annoying each day.                                      '\n",
      " 'His shoulder felt as if it were broken.                                               '\n",
      " 'Do they make class-biased decisions?                                                  '\n",
      " 'Cliff was soothed by the luxurious massage.                                           '\n",
      " 'Eating spinach nightly increases strength miraculously.                               '\n",
      " 'His failure to open the store by eight cost him his job.                              '\n",
      " 'The emperor had a mean temper.                                                        '\n",
      " 'This big, flexible voice with uncommon range has been superbly disciplined.           '\n",
      " 'Birthday parties have cupcakes and ice cream.                                         '\n",
      " 'We congratulate the entire membership on its record of good legislation.              '\n",
      " \"You people don't have adjustable vision.                                              \"\n",
      " 'He looked lazy, spoiled, a little querulous.                                          '\n",
      " 'The toddler found a clamshell near the camp site.                                     '\n",
      " 'Westchester is a county in New York.                                                  '\n",
      " 'How ancient is this subway escalator?                                                 '\n",
      " \"They're doin' it now.                                                                 \"\n",
      " 'If you destroy confidence in banks, you do something to the economy, he said.         '\n",
      " 'Hispanic costumes are quite colorful.                                                 '\n",
      " 'An official deadline cannot be postponed.                                             '\n",
      " \"But the ships are very slow now, and we don't get so many sailors any more.           \"\n",
      " 'They were shown how to advance against an enemy outpost atop a cleared ridge.         '\n",
      " 'Eat your raisins outdoors on the porch steps.                                         '\n",
      " 'Historical existence is a created good.                                               '\n",
      " 'Puree some fruit before preparing the skewers.                                        '\n",
      " 'That diagram makes sense only after much study.                                       '\n",
      " 'Lots of foreign movies have subtitles.                                                '\n",
      " 'Trim away excess clay; reinforce seam with a coil of clay.                            '\n",
      " 'Allow each child to have an ice pop.                                                  '\n",
      " 'For me it has more of both elements than the majority of its competitors.             '\n",
      " 'He was above all a friend seeker, almost pathetic in his eagerness to be liked.       '\n",
      " 'Thus there is a clearer division of authority, administrative and legislative.        '\n",
      " 'He may have a point in urging that decadent themes be given fewer prizes.             '\n",
      " \"That's an illusion.                                                                   \"\n",
      " 'Iguanas and alligators are tropical reptiles.                                         '\n",
      " 'A voice spoke near-at-hand.                                                           '\n",
      " 'A screwdriver is made from vodka and orange juice.                                    '\n",
      " 'A lone star shone in the early evening sky.                                           '\n",
      " 'She looked crestfallen, as if he had somehow disappointed the whole human race.       '\n",
      " 'This was easy for us.                                                                 '\n",
      " \"Daphne's Swedish needlepoint scarf matched her skirt.                                 \"\n",
      " 'He who does not love abides in death.                                                 '\n",
      " 'Further, it has its work cut out stopping anarchy where it is now garrisoned.         '\n",
      " \"It's fun to roast marshmallows on a gas burner.                                       \"\n",
      " 'The measure now moves to the Senate floor for a vote.                                 '\n",
      " 'Palm oil protects the surfaces of steel sheets before they are plated with tin.       '\n",
      " 'Seamstresses attach zippers with a thimble, needle, and thread.                       '\n",
      " 'In your garden it usually breaks down within a few days.                              '\n",
      " 'We have touched on many topics, from backpacking all the way through to luxury travel.'\n",
      " 'Try to recall the events in chronological order.                                      '\n",
      " 'Bob papered over the living room murals.                                              '\n",
      " 'What happens after looters find treasure?                                             '\n",
      " 'Would such an act of refusal be useful?                                               '\n",
      " 'The thick elm forest was nearly overwhelmed by Dutch Elm Disease.                     '\n",
      " 'Are you looking for employment?                                                       '\n",
      " \"Cliff's display was misplaced on the screen.                                          \"\n",
      " \"Norwegian sweaters are made of lamb's wool.                                           \"\n",
      " 'This news was published on the old version of the website.                            '\n",
      " 'In fact our whole defensive unit did a good job.                                      '\n",
      " 'A leather handbag would be a suitable gift.                                           '\n",
      " 'For a moment, boy and mount hung in midair.                                           '\n",
      " 'Her classical performance gained critical acclaim.                                    '\n",
      " 'Mosquitoes exist in warm, humid climates.                                             '\n",
      " 'Thick glue oozed out of the tube.                                                     '\n",
      " 'Draw each graph on a new axis.                                                        '\n",
      " 'The new birth is miraculous and mysterious.                                           '\n",
      " 'Drop five forms in the box before you go out.                                         '\n",
      " 'But how little love we give him!                                                      '\n",
      " 'They should live in modest circumstances, avoiding all conspicuous consumption.       '\n",
      " 'Reading in poor light gives you eyestrain.                                            '\n",
      " 'Next best to destroying an army is to deprive it of its freedom of action.            '\n",
      " 'Or certain words or rituals that child and adult go through may do the trick.         '\n",
      " 'Which church do the Smiths worship in?                                                '\n",
      " \"The barracuda recoiled from the serpent's poisonous fangs.                            \"\n",
      " \"You're so preoccupied that you've let your faith grow dim.                            \"\n",
      " 'Remember to allow identical twins to enter freely.                                    '\n",
      " 'A connoisseur will enjoy this shellfish dish.                                         '\n",
      " 'If they are not ellipsoids, the conclusions will be a reasonable approximation.       '\n",
      " 'Wider discretionary choices for customers.                                            '\n",
      " 'Steph could barely handle the psychological trauma.                                   '\n",
      " 'How oily do you like your salad dressing?                                             '\n",
      " \"Severe myopia contributed to Ron's inferiority complex.                               \"\n",
      " 'Destroy every file related to my audits.                                              '\n",
      " 'Valley Lodge yearly celebrates the first calf born.                                   '\n",
      " 'Steve collects rare and novel coins.                                                  '\n",
      " 'Scholastic aptitude is judged by standardized tests.                                  '\n",
      " 'He enlisted a staff of loyal experts and of many zealous volunteers.                  '\n",
      " 'Castor oil, made from castorbeans, has gone out of style as a medicine.               '\n",
      " \"Take charge of choosing her bride's maids' gowns.                                     \"\n",
      " 'Movies never have enough villains.                                                    '\n",
      " 'Keep your seats, boys, I just want to put some finishing touches on this thing.       '\n",
      " 'The fifth jar contains big, juicy peaches.                                            '\n",
      " 'Look at the things we do to escape our fears and to forget our worries.               '\n",
      " 'Shipbuilding is a most fascinating process.                                           '\n",
      " 'The triumphant warrior exhibited naive heroism.                                       '\n",
      " 'Maybe he will help to turn our fair city into a ghost town.                           '\n",
      " 'It is those measures which are now being prepared.                                    '\n",
      " 'Stories like that of her and her son are not unusual.                                 '\n",
      " 'In fact our whole defensive unit did a good job.                                      '\n",
      " 'Curiosity and mediocrity seldom coexist.                                              '\n",
      " 'Do line barbecue fire bowl with heavy foil to reflect heat.                           '\n",
      " 'They remained lifelong friends and companions.                                        '\n",
      " 'Pizzerias are convenient for a quick lunch.                                           '\n",
      " 'My ideal morning begins with hot coffee.                                              '\n",
      " 'His body processes only slowed down enough for him to dispel fatigue poisons.         '\n",
      " 'Growing well-kept gardens is very time consuming.                                     '\n",
      " 'Laugh, dance, and sing if fortune smiles upon you.                                    '\n",
      " 'Objects made of pewter are beautiful.                                                 '\n",
      " 'What is this large thing by the ironing board?                                        '\n",
      " 'You will usually be guided.                                                           '\n",
      " 'This can be easily visualized with the following simple graph.                        '\n",
      " 'Should giraffes be kept in small zoos?                                                '\n",
      " 'Any groups with bookings affected by the partial closure have been notified, he said. '\n",
      " 'Jokes, cartoons and cynics to the contrary, mothers-in-law make good friends.         '\n",
      " 'We welcome many new students each year.                                               '\n",
      " 'Flying standby can be practical if you want to save money.                            '\n",
      " 'He picked up nine pairs of socks for each brother.                                    '\n",
      " 'We experience distress and frustration obtaining our degrees.                         '\n",
      " 'My beloved ward, my perennial gadfly, said the whining voice.                         '\n",
      " 'As a precaution, the outlaws bought gunpowder for their stronghold.                   '\n",
      " 'Put on his old brown corduroy coat and it was already soaked.                         '\n",
      " 'A muscular abdomen is good for your back.                                             '\n",
      " 'The small boy put the worm on the hook.                                               '\n",
      " 'Regular attendance is seldom required.                                                '\n",
      " 'Beg that guard for one gallon of gas.                                                 '\n",
      " 'There may be some problems with news display in specific browser versions.            '\n",
      " 'She is thinner than I am.                                                             '\n",
      " 'He stole a dime from a beggar.                                                        '\n",
      " 'Do they allow atheists in church?                                                     '\n",
      " 'Please sing just the club theme.                                                      '\n",
      " 'Addition and subtraction are learned skills.                                          '\n",
      " 'The morning dew on the spider web glistened in the sun.                               '\n",
      " 'We also spent a great deal of effort on making a demo version.                        '\n",
      " \"Challenge each general's intelligence.                                                \"\n",
      " 'A sleepy voice answered.                                                              '\n",
      " 'Envision a life you love.                                                             '\n",
      " 'Only the most accomplished artists obtain popularity.                                 '\n",
      " 'We are open every Monday evening.                                                     '\n",
      " 'Artificial intelligence is for real.                                                  '\n",
      " 'Brush fires are common in the dry underbrush of Nevada.                               '\n",
      " 'Residential associations struggle to insulate themselves against intrusions.          '\n",
      " \"Are your grades higher or lower than Nancy's?                                         \"\n",
      " 'The mango and the papaya are in a bowl.                                               '\n",
      " 'Rob sat by the pond and sketched the stray geese.                                     '\n",
      " \"However, a boy's lively eyes might rove.                                              \"\n",
      " \"He believed that brave boys didn't cry.                                               \"\n",
      " 'We have also seen the power of faith at work among us.                                '\n",
      " 'Our entire economy will have a terrific uplift.                                       '\n",
      " \"Yeah, seems so, don't it, the boy laughed, hugging her close.                         \"\n",
      " 'The giant redwoods shimmered in the glistening sun.                                   '\n",
      " 'Count the number of teaspoons of soysauce that you add.                               '\n",
      " 'The legislature met to judge the state of public education.                           '\n",
      " 'That pickpocket was caught red-handed.                                                '\n",
      " 'The viewpoint overlooked the ocean.                                                   '\n",
      " 'Measured performance characteristics for this experimental tube will be listed.       '\n",
      " 'Her right hand aches whenever the barometric pressure changes.                        '\n",
      " 'Neglect means spiritual paralysis or death.                                           '\n",
      " 'A chosen few will become Generals.                                                    '\n",
      " 'Will Robin wear a yellow lily?                                                        '\n",
      " 'Once you finish greasing your chain, be sure to wash thoroughly.                      '\n",
      " 'These caged versions can be traded and sold.                                          '\n",
      " 'But people need to be part of the equation.                                           '\n",
      " 'We could barely see the fjords through the snow flurries.                             '\n",
      " 'The public is now armed with sophistication and numerous competing media.             '\n",
      " 'Policymakers usually take turns giving their view of the economy.                     '\n",
      " 'A skin mole is usually round or oval in shape and appears as a spot on the skin.      '\n",
      " \"Students' choices of ideal educational goals are not arbitrary or whimsical.          \"\n",
      " 'In developing film, many toxic chemicals are used.                                    '\n",
      " 'We got drenched from the uninterrupted rain.                                          '\n",
      " 'She came back the other day to reassure me.                                           '\n",
      " 'The dark, murky lagoon wound around for miles.                                        '\n",
      " 'He may toss coins; he may take slips of paper from a grab bag.                        '\n",
      " 'As coauthors, we presented our new book to the haughty audience.                      '\n",
      " 'Also make sure thermometer does not touch the revolving spit or hit the coals.        '\n",
      " \"You're so preoccupied that you've let your faith grow dim.                            \"\n",
      " 'Psychologically the reception should be the climax, following the sermon.             '\n",
      " 'Our enemy is also threatening to devour us.                                           '\n",
      " 'We would lose our export markets and deny ourselves the imports we need.              '\n",
      " \"The cat's meow always hurts my ears.                                                  \"\n",
      " \"The singer's finger had a splinter.                                                   \"\n",
      " 'His sudden departure shocked the cast.                                                '\n",
      " 'How permanent are their records?                                                      '\n",
      " 'The fifth one wore a Prestige uniform.                                                '\n",
      " 'The news agency hired a great journalist.                                             '\n",
      " 'Coffee is grown on steep, jungle-like slopes in temperate zones.                      '\n",
      " 'Technical writers can abbreviate in bibliographies.                                   '\n",
      " 'Now a distinguished old man called on nine divinities to come and join us.            '\n",
      " 'A toothpaste tube should be squeezed from the bottom.                                 '\n",
      " 'Bright sunshine shimmers on the ocean.                                                '\n",
      " \"I've written so many versions of this conversation.                                   \"\n",
      " 'Most of us brush our teeth by hand.                                                   '\n",
      " 'Project development was proceeding too slowly.                                        '\n",
      " 'There was typhoid and malaria.                                                        '\n",
      " 'The kid has no manners, boys.                                                         '\n",
      " \"The cowboy's humorous name for a cow givin' milk was a milk pitcher.                  \"\n",
      " 'Almost all colleges are now coeducational.                                            '\n",
      " 'Many wealthy tycoons splurged and bought both a yacht and a schooner.                 '\n",
      " 'Critical equipment needs proper maintenance.                                          '\n",
      " 'The narrow fringe of sadness that ran around it only emphasized the pleasure.         '\n",
      " 'If necessary to replace both halves on grill, sear cuts and allot extra time.         '\n",
      " 'Her face turned pink with pleasure and a smothered cough.                             '\n",
      " 'The desire and ability to read are important aspects of our cultural life.            '\n",
      " 'Theirs is a sacrificial life by earthly standards.                                    '\n",
      " 'Does Creole cooking use curry?                                                        '\n",
      " 'Her wardrobe consists of only skirts and blouses.                                     '\n",
      " 'The old shop adage still holds: a good mechanic is usually a bad boss.                '\n",
      " 'Please take this dirty table cloth to the cleaners for me.                            '\n",
      " 'A good morrow to you, my boy.                                                         '\n",
      " 'The irate actor stomped away idiotically.                                             ']\n"
     ]
    }
   ],
   "source": [
    "print(\"Sentence Length:\", len(sentenceText))\n",
    "print(\"Sentence Text:\", sentenceText)"
   ],
   "metadata": {
    "collapsed": false,
    "ExecuteTime": {
     "start_time": "2024-04-30T15:19:32.294435Z",
     "end_time": "2024-04-30T15:19:32.308215Z"
    }
   }
  },
  {
   "cell_type": "code",
   "execution_count": 21,
   "outputs": [
    {
     "name": "stdout",
     "output_type": "stream",
     "text": [
      "tx1 length: 280\n",
      "tx2 length: 280\n",
      "tx3 length: 280\n",
      "tx4 length: 280\n"
     ]
    }
   ],
   "source": [
    "print(\"tx1 length:\", len(tx1[0]))\n",
    "print(\"tx2 length:\", len(tx2[0]))\n",
    "print(\"tx3 length:\", len(tx3[0]))\n",
    "print(\"tx4 length:\", len(tx4[0]))"
   ],
   "metadata": {
    "collapsed": false,
    "ExecuteTime": {
     "start_time": "2024-04-30T15:20:22.707599Z",
     "end_time": "2024-04-30T15:20:22.716548Z"
    }
   }
  },
  {
   "cell_type": "code",
   "execution_count": null,
   "outputs": [],
   "source": [],
   "metadata": {
    "collapsed": false
   }
  }
 ],
 "metadata": {
  "kernelspec": {
   "display_name": "Python 3",
   "language": "python",
   "name": "python3"
  },
  "language_info": {
   "codemirror_mode": {
    "name": "ipython",
    "version": 2
   },
   "file_extension": ".py",
   "mimetype": "text/x-python",
   "name": "python",
   "nbconvert_exporter": "python",
   "pygments_lexer": "ipython2",
   "version": "2.7.6"
  }
 },
 "nbformat": 4,
 "nbformat_minor": 0
}
